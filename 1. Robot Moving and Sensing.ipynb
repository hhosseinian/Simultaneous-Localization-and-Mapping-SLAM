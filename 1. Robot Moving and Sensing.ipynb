{
  "cells": [
    {
      "cell_type": "markdown",
      "metadata": {
        "id": "9hFlp7faOa-Z"
      },
      "source": [
        "# Robot Class\n",
        "\n",
        "In this project, we'll be localizing a robot in a 2D grid world. The basis for simultaneous localization and mapping (SLAM) is to gather information from a robot's sensors and motions over time, and then use information about measurements and motion to re-construct a map of the world.\n",
        "\n",
        "### Uncertainty\n",
        "\n",
        "As you've learned, robot motion and sensors have some uncertainty associated with them. For example, imagine a car driving up hill and down hill; the speedometer reading will likely overestimate the speed of the car going up hill and underestimate the speed of the car going down hill because it cannot perfectly account for gravity. Similarly, we cannot perfectly predict the *motion* of a robot. A robot is likely to slightly overshoot or undershoot a target location.\n",
        "\n",
        "In this notebook, we'll look at the `robot` class that is *partially* given to you for the upcoming SLAM notebook. First, we'll create a robot and move it around a 2D grid world. Then, **you'll be tasked with defining a `sense` function for this robot that allows it to sense landmarks in a given world**! It's important that you understand how this robot moves, senses, and how it keeps track of different landmarks that it sees in a 2D grid world, so that you can work with it's movement and sensor data.\n",
        "\n",
        "---\n",
        "\n",
        "Before we start analyzing robot motion, let's load in our resources and define the `robot` class. You can see that this class initializes the robot's position and adds measures of uncertainty for motion. You'll also see a `sense()` function which is not yet implemented, and you will learn more about that later in this notebook."
      ]
    },
    {
      "cell_type": "code",
      "execution_count": 1,
      "metadata": {
        "id": "aqHynkMvOa-j"
      },
      "outputs": [],
      "source": [
        "# import some resources\n",
        "import numpy as np\n",
        "import matplotlib.pyplot as plt\n",
        "import random\n",
        "%matplotlib inline"
      ]
    },
    {
      "cell_type": "code",
      "execution_count": 2,
      "metadata": {
        "id": "GQwCiVspOa-5"
      },
      "outputs": [],
      "source": [
        "# the robot class\n",
        "class robot:\n",
        "\n",
        "    # --------\n",
        "    # init:\n",
        "    #   creates a robot with the specified parameters and initializes\n",
        "    #   the location (self.x, self.y) to the center of the world\n",
        "    #\n",
        "    def __init__(self, world_size = 100.0, measurement_range = 30.0,\n",
        "                 motion_noise = 1.0, measurement_noise = 1.0):\n",
        "        self.measurement_noise = 0.0\n",
        "        self.world_size = world_size\n",
        "        self.measurement_range = measurement_range\n",
        "        self.x = world_size / 2.0\n",
        "        self.y = world_size / 2.0\n",
        "        self.motion_noise = motion_noise\n",
        "        self.measurement_noise = measurement_noise\n",
        "        self.landmarks = []\n",
        "        self.num_landmarks = 0\n",
        "\n",
        "\n",
        "    # returns a positive, random float\n",
        "    def rand(self):\n",
        "        return random.random() * 2.0 - 1.0\n",
        "\n",
        "\n",
        "    # --------\n",
        "    # move: attempts to move robot by dx, dy. If outside world\n",
        "    #       boundary, then the move does nothing and instead returns failure\n",
        "    #\n",
        "    def move(self, dx, dy):\n",
        "\n",
        "        x = self.x + dx + self.rand() * self.motion_noise\n",
        "        y = self.y + dy + self.rand() * self.motion_noise\n",
        "\n",
        "        if x < 0.0 or x > self.world_size or y < 0.0 or y > self.world_size:\n",
        "            return False\n",
        "        else:\n",
        "            self.x = x\n",
        "            self.y = y\n",
        "            return True\n",
        "\n",
        "\n",
        "    # --------\n",
        "    # sense: returns x- and y- distances to landmarks within visibility range\n",
        "    #        because not all landmarks may be in this range, the list of measurements\n",
        "    #        is of variable length. Set measurement_range to -1 if you want all\n",
        "    #        landmarks to be visible at all times\n",
        "    #\n",
        "\n",
        "    ## complete the sense function\n",
        "    def sense(self):\n",
        "        ''' This function does not take in any parameters, instead it references internal variables\n",
        "            (such as self.landamrks) to measure the distance between the robot and any landmarks\n",
        "            that the robot can see (that are within its measurement range).\n",
        "            This function returns a list of landmark indices, and the measured distances (dx, dy)\n",
        "            between the robot's position and said landmarks.\n",
        "            This function should account for measurement_noise and measurement_range.\n",
        "            One item in the returned list should be in the form: [landmark_index, dx, dy].\n",
        "            '''\n",
        "\n",
        "        measurements = []\n",
        "\n",
        "        ## iterate through all of the landmarks in a world\n",
        "\n",
        "        ## For each landmark\n",
        "        ## 1. compute dx and dy, the distances between the robot and the landmark\n",
        "        ## 2. account for measurement noise by *adding* a noise component to dx and dy\n",
        "        ##    - The noise component should be a random value between [-1.0, 1.0)*measurement_noise\n",
        "        ##    - Feel free to use the function self.rand() to help calculate this noise component\n",
        "        ##    - It may help to reference the `move` function for noise calculation\n",
        "        ## 3. If either of the distances, dx or dy, fall outside of the internal var, measurement_range\n",
        "        ##    then we cannot record them; if they do fall in the range, then add them to the measurements list\n",
        "        ##    as list.append([index, dx, dy]), this format is important for data creation done later\n",
        "        for i, landmark in enumerate(self.landmarks):\n",
        "            dx = landmark[0] - self.x + self.rand() * self.measurement_noise\n",
        "            dy = landmark[1] - self.y + self.rand() * self.measurement_noise\n",
        "            # check if measurment is in range\n",
        "            if abs(dx) <= self.measurement_range and abs(dy) <= self.measurement_range:\n",
        "                measurements.append([i,dx,dy])\n",
        "        ## return the final, complete list of measurements\n",
        "        return measurements\n",
        "\n",
        "\n",
        "    # --------\n",
        "    # make_landmarks:\n",
        "    # make random landmarks located in the world\n",
        "    #\n",
        "    def make_landmarks(self, num_landmarks):\n",
        "        self.landmarks = []\n",
        "        for i in range(num_landmarks):\n",
        "            self.landmarks.append([round(random.random() * self.world_size),\n",
        "                                   round(random.random() * self.world_size)])\n",
        "        self.num_landmarks = num_landmarks\n",
        "\n",
        "\n",
        "    # called when print(robot) is called; prints the robot's location\n",
        "    def __repr__(self):\n",
        "        return 'Robot: [x=%.5f y=%.5f]'  % (self.x, self.y)\n"
      ]
    },
    {
      "cell_type": "markdown",
      "metadata": {
        "id": "1M5r9ztrOa-9"
      },
      "source": [
        "## Define a world and a robot\n",
        "\n",
        "Next, let's instantiate a robot object. As you can see in `__init__` above, the robot class takes in a number of parameters including a world size and some values that indicate the sensing and movement capabilities of the robot.\n",
        "\n",
        "In the next example, we define a small 10x10 square world, a measurement range that is half that of the world and small values for motion and measurement noise. These values will typically be about 10 times larger, but we ust want to demonstrate this behavior on a small scale. You are also free to change these values and note what happens as your robot moves!"
      ]
    },
    {
      "cell_type": "code",
      "execution_count": 3,
      "metadata": {
        "id": "e-SiBkySOa--",
        "outputId": "c0a2f376-8f48-40f0-f364-8b1f0c5789eb",
        "colab": {
          "base_uri": "https://localhost:8080/"
        }
      },
      "outputs": [
        {
          "output_type": "stream",
          "name": "stdout",
          "text": [
            "Robot: [x=5.00000 y=5.00000]\n"
          ]
        }
      ],
      "source": [
        "world_size         = 10.0    # size of world (square)\n",
        "measurement_range  = 5.0     # range at which we can sense landmarks\n",
        "motion_noise       = 0.2      # noise in robot motion\n",
        "measurement_noise  = 0.2      # noise in the measurements\n",
        "\n",
        "# instantiate a robot, r\n",
        "r = robot(world_size, measurement_range, motion_noise, measurement_noise)\n",
        "\n",
        "# print out the location of r\n",
        "print(r)"
      ]
    },
    {
      "cell_type": "markdown",
      "metadata": {
        "id": "ty-ZWIK1Oa_A"
      },
      "source": [
        "## Visualizing the World\n",
        "\n",
        "In the given example, we can see/print out that the robot is in the middle of the 10x10 world at (x, y) = (5.0, 5.0), which is exactly what we expect!\n",
        "\n",
        "However, it's kind of hard to imagine this robot in the center of a world, without visualizing the grid itself, and so in the next cell we provide a helper visualization function, `display_world`, that will display a grid world in a plot and draw a red `o` at the location of our robot, `r`. The details of how this function wors can be found in the `helpers.py` file in the home directory; you do not have to change anything in this `helpers.py` file."
      ]
    },
    {
      "cell_type": "code",
      "execution_count": 8,
      "metadata": {
        "id": "o_bo3XScOa_A",
        "outputId": "696985bf-8d1b-496f-ae4a-759d44feb107",
        "colab": {
          "base_uri": "https://localhost:8080/",
          "height": 873
        }
      },
      "outputs": [
        {
          "output_type": "stream",
          "name": "stdout",
          "text": [
            "--2024-08-02 22:37:03--  https://raw.githubusercontent.com/hhosseinian/Simultaneous-Localization-and-Mapping-SLAM/main/helpers.py\n",
            "Resolving raw.githubusercontent.com (raw.githubusercontent.com)... 185.199.110.133, 185.199.108.133, 185.199.109.133, ...\n",
            "Connecting to raw.githubusercontent.com (raw.githubusercontent.com)|185.199.110.133|:443... connected.\n",
            "HTTP request sent, awaiting response... 200 OK\n",
            "Length: 3827 (3.7K) [text/plain]\n",
            "Saving to: ‘helpers.py.1’\n",
            "\n",
            "\rhelpers.py.1          0%[                    ]       0  --.-KB/s               \rhelpers.py.1        100%[===================>]   3.74K  --.-KB/s    in 0s      \n",
            "\n",
            "2024-08-02 22:37:03 (51.6 MB/s) - ‘helpers.py.1’ saved [3827/3827]\n",
            "\n",
            "--2024-08-02 22:37:04--  https://raw.githubusercontent.com/hhosseinian/Simultaneous-Localization-and-Mapping-SLAM/main/robot_class.py\n",
            "Resolving raw.githubusercontent.com (raw.githubusercontent.com)... 185.199.110.133, 185.199.109.133, 185.199.108.133, ...\n",
            "Connecting to raw.githubusercontent.com (raw.githubusercontent.com)|185.199.110.133|:443... connected.\n",
            "HTTP request sent, awaiting response... 200 OK\n",
            "Length: 4836 (4.7K) [text/plain]\n",
            "Saving to: ‘robot_class.py’\n",
            "\n",
            "robot_class.py      100%[===================>]   4.72K  --.-KB/s    in 0s      \n",
            "\n",
            "2024-08-02 22:37:04 (41.3 MB/s) - ‘robot_class.py’ saved [4836/4836]\n",
            "\n",
            "Robot: [x=5.00000 y=5.00000]\n"
          ]
        },
        {
          "output_type": "display_data",
          "data": {
            "text/plain": [
              "<Figure size 500x500 with 1 Axes>"
            ],
            "image/png": "[encoded data removed]"
          },
          "metadata": {}
        }
      ],
      "source": [
        "# import helper function\n",
        "!wget https://raw.githubusercontent.com/hhosseinian/Simultaneous-Localization-and-Mapping-SLAM/main/helpers.py #Uncomment if you run on google colab\n",
        "!wget https://raw.githubusercontent.com/hhosseinian/Simultaneous-Localization-and-Mapping-SLAM/main/robot_class.py #Uncomment if you run on google colab\n",
        "from helpers import display_world\n",
        "\n",
        "# define figure size\n",
        "plt.rcParams[\"figure.figsize\"] = (5,5)\n",
        "\n",
        "# call display_world and display the robot in it's grid world\n",
        "print(r)\n",
        "display_world(int(world_size), [r.x, r.y])"
      ]
    },
    {
      "cell_type": "markdown",
      "metadata": {
        "id": "C4XWFq3OOa_B"
      },
      "source": [
        "## Movement\n",
        "\n",
        "Now you can really picture where the robot is in the world! Next, let's call the robot's `move` function. We'll ask it to move some distance `(dx, dy)` and we'll see that this motion is not perfect by the placement of our robot `o` and by the printed out position of `r`.\n",
        "\n",
        "Try changing the values of `dx` and `dy` and/or running this cell multiple times; see how the robot moves and how the uncertainty in robot motion accumulates over multiple movements.\n",
        "\n",
        "#### For a `dx` = 1, does the robot move *exactly* one spot to the right? What about `dx` = -1? What happens if you try to move the robot past the boundaries of the world?"
      ]
    },
    {
      "cell_type": "code",
      "execution_count": 9,
      "metadata": {
        "id": "6q8odYevOa_D",
        "outputId": "897abdcb-f353-4fb0-d86e-ef658ed93721",
        "colab": {
          "base_uri": "https://localhost:8080/",
          "height": 469
        }
      },
      "outputs": [
        {
          "output_type": "stream",
          "name": "stdout",
          "text": [
            "Robot: [x=6.04379 y=7.16017]\n"
          ]
        },
        {
          "output_type": "display_data",
          "data": {
            "text/plain": [
              "<Figure size 500x500 with 1 Axes>"
            ],
            "image/png": "[encoded data removed]"
          },
          "metadata": {}
        }
      ],
      "source": [
        "# choose values of dx and dy (negative works, too)\n",
        "dx = 1\n",
        "dy = 2\n",
        "r.move(dx, dy)\n",
        "\n",
        "# print out the exact location\n",
        "print(r)\n",
        "\n",
        "# display the world after movement, not that this is the same call as before\n",
        "# the robot tracks its own movement\n",
        "display_world(int(world_size), [r.x, r.y])"
      ]
    },
    {
      "cell_type": "markdown",
      "metadata": {
        "id": "PdqEil11Oa_E"
      },
      "source": [
        "## Landmarks\n",
        "\n",
        "Next, let's create landmarks, which are measurable features in the map. You can think of landmarks as things like notable buildings, or something smaller such as a tree, rock, or other feature.\n",
        "\n",
        "The robot class has a function `make_landmarks` which randomly generates locations for the number of specified landmarks. Try changing `num_landmarks` or running this cell multiple times to see where these landmarks appear. We have to pass these locations as a third argument to the `display_world` function and the list of landmark locations is accessed similar to how we find the robot position `r.landmarks`.\n",
        "\n",
        "Each landmark is displayed as a purple `x` in the grid world, and we also print out the exact `[x, y]` locations of these landmarks at the end of this cell."
      ]
    },
    {
      "cell_type": "code",
      "execution_count": 11,
      "metadata": {
        "id": "Xkc1dm-yOa_F",
        "outputId": "fc41e3f4-766d-4f74-e445-f65ad5a287c4",
        "colab": {
          "base_uri": "https://localhost:8080/",
          "height": 488
        }
      },
      "outputs": [
        {
          "output_type": "stream",
          "name": "stdout",
          "text": [
            "Robot: [x=6.04379 y=7.16017]\n"
          ]
        },
        {
          "output_type": "display_data",
          "data": {
            "text/plain": [
              "<Figure size 500x500 with 1 Axes>"
            ],
            "image/png": "[encoded data removed]"
          },
          "metadata": {}
        },
        {
          "output_type": "stream",
          "name": "stdout",
          "text": [
            "Landmark locations [x,y]:  [[3, 6], [4, 9], [5, 8]]\n"
          ]
        }
      ],
      "source": [
        "# create any number of landmarks\n",
        "num_landmarks = 3\n",
        "r.make_landmarks(num_landmarks)\n",
        "\n",
        "# print out our robot's exact location\n",
        "print(r)\n",
        "\n",
        "# display the world including these landmarks\n",
        "display_world(int(world_size), [r.x, r.y], r.landmarks)\n",
        "\n",
        "# print the locations of the landmarks\n",
        "print('Landmark locations [x,y]: ', r.landmarks)"
      ]
    },
    {
      "cell_type": "markdown",
      "metadata": {
        "id": "dAOXn9r7Oa_J"
      },
      "source": [
        "## Sense\n",
        "\n",
        "Once we have some landmarks to sense, we need to be able to tell our robot to *try* to sense how far they are away from it. It will be up t you to code the `sense` function in our robot class.\n",
        "\n",
        "The `sense` function uses only internal class parameters and returns a list of the the measured/sensed x and y distances to the landmarks it senses within the specified `measurement_range`.\n",
        "\n",
        "### Implement the `sense` function\n",
        "\n",
        "Once you have tested out your code, **copy your complete `sense` code to the `robot_class.py` file in the home directory**. By placing this complete code in the `robot_class` Python file, we will be able to reference this class in a later notebook.\n",
        "\n",
        "The measurements have the format, `[i, dx, dy]` where `i` is the landmark index (0, 1, 2, ...) and `dx` and `dy` are the measured distance between the robot's location (x, y) and the landmark's location (x, y). This distance will not be perfect since our sense function has some associated `measurement noise`.\n",
        "\n",
        "---\n",
        "\n",
        "In the example in the following cell, we have a given our robot a range of `5.0` so any landmarks that are within that range of our robot's location, should appear in a list of measurements. Not all landmarks are guaranteed to be in our visibility range, so this list will be variable in length.\n",
        "\n",
        "*Note: the robot's location is often called the **pose** or `[Pxi, Pyi]` and the landmark locations are often written as `[Lxi, Lyi]`. You'll see this notation in the next notebook.*"
      ]
    },
    {
      "cell_type": "code",
      "execution_count": 12,
      "metadata": {
        "id": "g-9hK9XpOa_K",
        "outputId": "202c9fc7-2662-4529-f215-d6d65c8dd749",
        "colab": {
          "base_uri": "https://localhost:8080/"
        }
      },
      "outputs": [
        {
          "output_type": "stream",
          "name": "stdout",
          "text": [
            "[[0, -3.113339431153997, -1.1286995765163406], [1, -2.2382074606190843, 2.007567718023349], [2, -0.942277319918243, 0.8715330436599641]]\n"
          ]
        }
      ],
      "source": [
        "# try to sense any surrounding landmarks\n",
        "measurements = r.sense()\n",
        "\n",
        "# this will print out an empty list if `sense` has not been implemented\n",
        "print(measurements)"
      ]
    },
    {
      "cell_type": "markdown",
      "metadata": {
        "id": "mJuzvdspOa_N"
      },
      "source": [
        "**Refer back to the grid map above. Do these measurements make sense to you? Are all the landmarks captured in this list (why/why not)?**"
      ]
    },
    {
      "cell_type": "raw",
      "metadata": {
        "id": "byVA4zU7Oa_O"
      },
      "source": [
        "---\n",
        "## Data\n",
        "\n",
        "#### Putting it all together\n",
        "\n",
        "To perform SLAM, we'll collect a series of robot sensor measurements and motions, in that order, over a defined period of time. Then we'll use only this data to re-construct the map of the world with the robot and landmar locations. You can think of SLAM as peforming what we've done in this notebook, only backwards. Instead of defining a world and robot and creating movement and sensor data, it will be up to you to use movement and sensor measurements to reconstruct the world!\n",
        "\n",
        "In the next notebook, you'll see this list of movements and measurements (which you'll use to re-construct the world) listed in a structure called `data`. This is an array that holds sensor measurements and movements in a specific order, which will be useful to call upon when you have to extract this data and form constraint matrices and vectors.\n",
        "\n",
        "`data` is constructed over a series of time steps as follows:"
      ]
    },
    {
      "cell_type": "code",
      "execution_count": 13,
      "metadata": {
        "id": "bkwdi0_yOa_P",
        "outputId": "811b4699-d263-4ca7-a779-372d328519e6",
        "colab": {
          "base_uri": "https://localhost:8080/"
        }
      },
      "outputs": [
        {
          "output_type": "stream",
          "name": "stdout",
          "text": [
            "[[[[0, -3.113339431153997, -1.1286995765163406], [1, -2.2382074606190843, 2.007567718023349], [2, -0.942277319918243, 0.8715330436599641]], [1, 2]]]\n"
          ]
        }
      ],
      "source": [
        "data = []\n",
        "\n",
        "# after a robot first senses, then moves (one time step)\n",
        "# that data is appended like so:\n",
        "data.append([measurements, [dx, dy]])\n",
        "\n",
        "# for our example movement and measurement\n",
        "print(data)"
      ]
    },
    {
      "cell_type": "code",
      "execution_count": 14,
      "metadata": {
        "id": "9JYuqC9oOa_R",
        "outputId": "3ed783bf-764c-4d2e-f8a0-31606c77597a",
        "colab": {
          "base_uri": "https://localhost:8080/"
        }
      },
      "outputs": [
        {
          "output_type": "stream",
          "name": "stdout",
          "text": [
            "Measurements:  [[0, -3.113339431153997, -1.1286995765163406], [1, -2.2382074606190843, 2.007567718023349], [2, -0.942277319918243, 0.8715330436599641]]\n",
            "Motion:  [1, 2]\n"
          ]
        }
      ],
      "source": [
        "# in this example, we have only created one time step (0)\n",
        "time_step = 0\n",
        "\n",
        "# so you can access robot measurements:\n",
        "print('Measurements: ', data[time_step][0])\n",
        "\n",
        "# and its motion for a given time step:\n",
        "print('Motion: ', data[time_step][1])"
      ]
    },
    {
      "cell_type": "markdown",
      "metadata": {
        "id": "PpPdhaFVOa_S"
      },
      "source": [
        "### Final robot class\n",
        "\n",
        "Before moving on to the last notebook in this series, please make sure that you have copied your final, completed `sense` function into the `robot_class.py` file in the home directory. We will be using this file in the final implementation of slam!"
      ]
    }
  ],
  "metadata": {
    "kernelspec": {
      "display_name": "Python 3 (ipykernel)",
      "language": "python",
      "name": "python3"
    },
    "language_info": {
      "codemirror_mode": {
        "name": "ipython",
        "version": 3
      },
      "file_extension": ".py",
      "mimetype": "text/x-python",
      "name": "python",
      "nbconvert_exporter": "python",
      "pygments_lexer": "ipython3",
      "version": "3.12.4"
    },
    "colab": {
      "provenance": []
    }
  },
  "nbformat": 4,
  "nbformat_minor": 0
}